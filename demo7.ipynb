{
 "cells": [
  {
   "cell_type": "code",
   "execution_count": 1,
   "id": "ca0dc823-db16-43b6-864d-9140a8824b73",
   "metadata": {},
   "outputs": [],
   "source": [
    "l1 =['likhon', 'kumar','das', 'pwskills']"
   ]
  },
  {
   "cell_type": "code",
   "execution_count": 2,
   "id": "1601d28c-8f2b-4cfd-81e8-cc3b672c90e0",
   "metadata": {},
   "outputs": [
    {
     "name": "stdout",
     "output_type": "stream",
     "text": [
      "likhon\n",
      "kumar\n",
      "das\n",
      "pwskills\n"
     ]
    }
   ],
   "source": [
    "l1 = []\n",
    "for joy in l:\n",
    "    print(joy)\n",
    "    l1.append(joy.upper())"
   ]
  },
  {
   "cell_type": "code",
   "execution_count": 3,
   "id": "0c97e314-bbfb-4508-918c-acf1c8f7fb9b",
   "metadata": {},
   "outputs": [
    {
     "data": {
      "text/plain": [
       "['LIKHON', 'KUMAR', 'DAS', 'PWSKILLS']"
      ]
     },
     "execution_count": 3,
     "metadata": {},
     "output_type": "execute_result"
    }
   ],
   "source": [
    "l1"
   ]
  },
  {
   "cell_type": "code",
   "execution_count": 6,
   "id": "f73417ec-e97c-43cb-97cc-f7dca9f22e3d",
   "metadata": {},
   "outputs": [],
   "source": [
    "l=[1,2,3,4,4,'likhon','das',323,45.534,'abc']"
   ]
  },
  {
   "cell_type": "code",
   "execution_count": 7,
   "id": "eb93fdc1-a78c-4586-a929-6985ba770303",
   "metadata": {},
   "outputs": [],
   "source": [
    "l1_num=[]\n",
    "l2_str=[]\n",
    "for i in l:\n",
    "    if type(i)==int or type(i)==float:\n",
    "        l1_num.append(i)\n",
    "    else:\n",
    "        l2_str.append(i)\n",
    "            "
   ]
  },
  {
   "cell_type": "code",
   "execution_count": 8,
   "id": "104d16ff-0c75-459f-b9cc-7b71c8881b07",
   "metadata": {},
   "outputs": [
    {
     "data": {
      "text/plain": [
       "[1, 2, 3, 4, 4, 323, 45.534]"
      ]
     },
     "execution_count": 8,
     "metadata": {},
     "output_type": "execute_result"
    }
   ],
   "source": [
    "l1_num"
   ]
  },
  {
   "cell_type": "code",
   "execution_count": 9,
   "id": "efd2aa3e-7913-48f0-8166-c30ef19c08c1",
   "metadata": {},
   "outputs": [
    {
     "data": {
      "text/plain": [
       "['likhon', 'das', 'abc']"
      ]
     },
     "execution_count": 9,
     "metadata": {},
     "output_type": "execute_result"
    }
   ],
   "source": [
    "l2_str"
   ]
  },
  {
   "cell_type": "code",
   "execution_count": null,
   "id": "8d308d06-7fe2-43d0-abdf-17e953aa9bd1",
   "metadata": {},
   "outputs": [],
   "source": []
  }
 ],
 "metadata": {
  "kernelspec": {
   "display_name": "Python 3 (ipykernel)",
   "language": "python",
   "name": "python3"
  },
  "language_info": {
   "codemirror_mode": {
    "name": "ipython",
    "version": 3
   },
   "file_extension": ".py",
   "mimetype": "text/x-python",
   "name": "python",
   "nbconvert_exporter": "python",
   "pygments_lexer": "ipython3",
   "version": "3.10.8"
  }
 },
 "nbformat": 4,
 "nbformat_minor": 5
}
